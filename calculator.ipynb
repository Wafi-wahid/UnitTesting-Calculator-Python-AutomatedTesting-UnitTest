{
  "nbformat": 4,
  "nbformat_minor": 0,
  "metadata": {
    "colab": {
      "provenance": []
    },
    "kernelspec": {
      "name": "python3",
      "display_name": "Python 3"
    },
    "language_info": {
      "name": "python"
    }
  },
  "cells": [
    {
      "cell_type": "markdown",
      "source": [
        "// Original Code Before Doing Unit Testing"
      ],
      "metadata": {
        "id": "3SSl3YjdVhDZ"
      }
    },
    {
      "cell_type": "code",
      "execution_count": 4,
      "metadata": {
        "colab": {
          "base_uri": "https://localhost:8080/"
        },
        "id": "tm4-ASIkVSfN",
        "outputId": "05de223e-ac0b-4d00-b494-4b47757261dd"
      },
      "outputs": [
        {
          "output_type": "stream",
          "name": "stdout",
          "text": [
            "**Welcome To My Calculator\n",
            "-----------------------------\n",
            "Please Enter 1st Number: 5\n",
            "Please Enter 2nd Number: 3\n",
            "*****************************************\n",
            "Please Enter Operator (+, -, *, /): +\n",
            "Result = 8.0\n"
          ]
        }
      ],
      "source": [
        "print(\"**Welcome To My Calculator\")\n",
        "print(\"-----------------------------\")\n",
        "\n",
        "try:\n",
        "    no_1 = float(input(\"Please Enter 1st Number: \"))\n",
        "    no_2 = float(input(\"Please Enter 2nd Number: \"))\n",
        "    print(\"*****************************************\")\n",
        "    operator = input(\"Please Enter Operator (+, -, *, /): \")\n",
        "\n",
        "    if operator == \"+\":\n",
        "        print(f\"Result = {no_1 + no_2}\")\n",
        "    elif operator == \"-\":\n",
        "        print(f\"Result = {no_1 - no_2}\")\n",
        "    elif operator == \"*\":\n",
        "        print(f\"Result = {no_1 * no_2}\")\n",
        "    elif operator == \"/\":\n",
        "        if no_2 == 0:\n",
        "            print(\"Cannot divide by zero!\")\n",
        "        else:\n",
        "            print(f\"Result = {no_1 / no_2}\")\n",
        "    else:\n",
        "        print(\"Invalid operator entered!\")\n",
        "\n",
        "except ValueError:\n",
        "    print(\"❌ Please enter only numeric values.\")"
      ]
    },
    {
      "cell_type": "markdown",
      "source": [
        "Created The calculator.py file  in which we have the original code"
      ],
      "metadata": {
        "id": "SXqVfjrptojQ"
      }
    },
    {
      "cell_type": "code",
      "source": [
        "%%writefile calculator.py\n",
        "def calculate(no_1, no_2, operator):\n",
        "    try:\n",
        "        no_1 = float(no_1)\n",
        "        no_2 = float(no_2)\n",
        "\n",
        "        if operator == \"+\":\n",
        "            return no_1 + no_2\n",
        "        elif operator == \"-\":\n",
        "            return no_1 - no_2\n",
        "        elif operator == \"*\":\n",
        "            return no_1 * no_2\n",
        "        elif operator == \"/\":\n",
        "            if no_2 == 0:\n",
        "                return \"Cannot divide by zero!\"\n",
        "            else:\n",
        "                return no_1 / no_2\n",
        "        else:\n",
        "            return \"Invalid operator entered!\"\n",
        "    except ValueError:\n",
        "        return \"❌ Please enter only numeric values.\"\n"
      ],
      "metadata": {
        "colab": {
          "base_uri": "https://localhost:8080/"
        },
        "id": "unPQmynwtZT9",
        "outputId": "6816f355-c55b-48fa-9720-e9dfe19a76d5"
      },
      "execution_count": 3,
      "outputs": [
        {
          "output_type": "stream",
          "name": "stdout",
          "text": [
            "Writing calculator.py\n"
          ]
        }
      ]
    },
    {
      "cell_type": "markdown",
      "source": [
        "# Python builtin unit testing framework to automate testing\n",
        "\n",
        "\n"
      ],
      "metadata": {
        "id": "YhwVkbnOWVzc"
      }
    },
    {
      "cell_type": "code",
      "source": [
        "import unittest\n",
        "from calculator import calculate"
      ],
      "metadata": {
        "id": "uIoD2zZJVd96"
      },
      "execution_count": null,
      "outputs": []
    },
    {
      "cell_type": "markdown",
      "source": [
        "Test Cases\n"
      ],
      "metadata": {
        "id": "lez_MFX5xRP7"
      }
    },
    {
      "cell_type": "code",
      "source": [
        "class TestCalculator(unittest.TestCase):\n",
        "\n",
        "    def test_addition(self):\n",
        "        result = calculate(10, 5, '+')\n",
        "        print(\"Test Addition: \", result)\n",
        "        self.assertEqual(result, 15)\n",
        "\n",
        "    def test_subtraction(self):\n",
        "        result = calculate(10, 5, '-')\n",
        "        print(\"Test Subtraction: \", result)\n",
        "        self.assertEqual(result, 5)\n",
        "\n",
        "    def test_multiplication(self):\n",
        "        result = calculate(10, 5, '*')\n",
        "        print(\"Test Multiplication: \", result)\n",
        "        self.assertEqual(result, 50)\n",
        "\n",
        "    def test_division(self):\n",
        "        result = calculate(10, 5, '/')\n",
        "        print(\"Test Division: \", result)\n",
        "        self.assertEqual(result, 2)\n",
        "\n",
        "    def test_division_by_zero(self):\n",
        "        result = calculate(10, 0, '/')\n",
        "        print(\"Test Division by Zero: \", result)\n",
        "        self.assertEqual(result, \" ❌Cannot divide by zero!\")\n",
        "\n",
        "    def test_invalid_operator(self):\n",
        "        result = calculate(10, 5, '%')\n",
        "        print(\"Test Invalid Operator: \", result)\n",
        "        self.assertEqual(result, \" ❌Invalid operator entered!\")\n",
        "\n",
        "    def test_non_numeric_input(self):\n",
        "        result = calculate(\"abc\", 5, '+')\n",
        "        print(\"Test Non-numeric Input: \", result)\n",
        "        self.assertEqual(result, \" ❌ Please enter only numeric values.\")\n"
      ],
      "metadata": {
        "id": "rtp1DBQ1uJVe"
      },
      "execution_count": null,
      "outputs": []
    },
    {
      "cell_type": "code",
      "source": [
        "my_tests = unittest.TestLoader().loadTestsFromTestCase(TestCalculator)\n",
        "unittest.TextTestRunner(verbosity=2).run(my_tests)\n"
      ],
      "metadata": {
        "colab": {
          "base_uri": "https://localhost:8080/"
        },
        "id": "pm0j3BlauzbU",
        "outputId": "f23c995d-410d-4073-a5f5-42f9360f7923"
      },
      "execution_count": null,
      "outputs": [
        {
          "output_type": "stream",
          "name": "stderr",
          "text": [
            "test_addition (__main__.TestCalculator.test_addition) ... ok\n",
            "test_division (__main__.TestCalculator.test_division) ... ok\n",
            "test_division_by_zero (__main__.TestCalculator.test_division_by_zero) ... FAIL\n",
            "test_invalid_operator (__main__.TestCalculator.test_invalid_operator) ... FAIL\n",
            "test_multiplication (__main__.TestCalculator.test_multiplication) ... ok\n",
            "test_non_numeric_input (__main__.TestCalculator.test_non_numeric_input) ... FAIL\n",
            "test_subtraction (__main__.TestCalculator.test_subtraction) ... ok\n",
            "\n",
            "======================================================================\n",
            "FAIL: test_division_by_zero (__main__.TestCalculator.test_division_by_zero)\n",
            "----------------------------------------------------------------------\n",
            "Traceback (most recent call last):\n",
            "  File \"<ipython-input-23-d23b58d0f047>\", line 26, in test_division_by_zero\n",
            "    self.assertEqual(result, \" ❌Cannot divide by zero!\")\n",
            "AssertionError: 'Cannot divide by zero!' != ' ❌Cannot divide by zero!'\n",
            "- Cannot divide by zero!\n",
            "+  ❌Cannot divide by zero!\n",
            "? ++\n",
            "\n",
            "\n",
            "======================================================================\n",
            "FAIL: test_invalid_operator (__main__.TestCalculator.test_invalid_operator)\n",
            "----------------------------------------------------------------------\n",
            "Traceback (most recent call last):\n",
            "  File \"<ipython-input-23-d23b58d0f047>\", line 31, in test_invalid_operator\n",
            "    self.assertEqual(result, \" ❌Invalid operator entered!\")\n",
            "AssertionError: 'Invalid operator entered!' != ' ❌Invalid operator entered!'\n",
            "- Invalid operator entered!\n",
            "+  ❌Invalid operator entered!\n",
            "? ++\n",
            "\n",
            "\n",
            "======================================================================\n",
            "FAIL: test_non_numeric_input (__main__.TestCalculator.test_non_numeric_input)\n",
            "----------------------------------------------------------------------\n",
            "Traceback (most recent call last):\n",
            "  File \"<ipython-input-23-d23b58d0f047>\", line 36, in test_non_numeric_input\n",
            "    self.assertEqual(result, \" ❌ Please enter only numeric values.\")\n",
            "AssertionError: '❌ Please enter only numeric values.' != ' ❌ Please enter only numeric values.'\n",
            "- ❌ Please enter only numeric values.\n",
            "+  ❌ Please enter only numeric values.\n",
            "? +\n",
            "\n",
            "\n",
            "----------------------------------------------------------------------\n",
            "Ran 7 tests in 0.016s\n",
            "\n",
            "FAILED (failures=3)\n"
          ]
        },
        {
          "output_type": "stream",
          "name": "stdout",
          "text": [
            "Test Addition:  15.0\n",
            "Test Division:  2.0\n",
            "Test Division by Zero:  Cannot divide by zero!\n",
            "Test Invalid Operator:  Invalid operator entered!\n",
            "Test Multiplication:  50.0\n",
            "Test Non-numeric Input:  ❌ Please enter only numeric values.\n",
            "Test Subtraction:  5.0\n"
          ]
        },
        {
          "output_type": "execute_result",
          "data": {
            "text/plain": [
              "<unittest.runner.TextTestResult run=7 errors=0 failures=3>"
            ]
          },
          "metadata": {},
          "execution_count": 24
        }
      ]
    }
  ]
}